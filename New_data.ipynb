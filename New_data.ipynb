{
 "cells": [
  {
   "cell_type": "code",
   "execution_count": 1,
   "outputs": [
    {
     "data": {
      "text/plain": "\"\\nИмпортируем библиотеку pandas и даём ей псевдоним pd\\nСчитываем CSV-файл в датафрейм df, разделителем является запятая\\nВыводим описательную статистику по столбцу 'Сумма' - минимум, максимум, среднее\\nГруппируем данные по столбцу 'Категория'\\nДля каждой группы подсчитываем сумму по столбцу 'Сумма'\\nВыводим результат - суммы по категориям\\n\""
     },
     "execution_count": 1,
     "metadata": {},
     "output_type": "execute_result"
    }
   ],
   "source": [
    "'''\n",
    "Импортируем библиотеку pandas и даём ей псевдоним pd\n",
    "Считываем CSV-файл в датафрейм df, разделителем является запятая\n",
    "Выводим описательную статистику по столбцу 'Сумма' - минимум, максимум, среднее\n",
    "Группируем данные по столбцу 'Категория'\n",
    "Для каждой группы подсчитываем сумму по столбцу 'Сумма'\n",
    "Выводим результат - суммы по категориям\n",
    "'''\n"
   ],
   "metadata": {
    "collapsed": false
   }
  },
  {
   "cell_type": "code",
   "execution_count": 2,
   "outputs": [
    {
     "name": "stdout",
     "output_type": "stream",
     "text": [
      "Index(['Отметка времени', 'Вопрос без заголовка', 'Введите дату',\n",
      "       'Выберите магазин', 'Введите позицию [Описание]', 'Введите позицию',\n",
      "       'Введите сумму', 'Введите количество', 'Хотите добавить еще товары?',\n",
      "       'Выберите категорию', 'Введите позицию [Ряд 2]',\n",
      "       'Введите позицию [Ряд 3]', 'Price per unit', 'Unnamed: 13'],\n",
      "      dtype='object')\n",
      "count      17\n",
      "unique      5\n",
      "top       Еда\n",
      "freq        7\n",
      "Name: Выберите категорию, dtype: object\n",
      "                           Price per unit\n",
      "Выберите категорию                       \n",
      "Бензин                         4547495051\n",
      "Бытовая химия                         250\n",
      "Еда                 4501001502549828112,5\n",
      "Зоотовары                            2700\n",
      "Лекарство                       250260255\n"
     ]
    }
   ],
   "source": [
    "import pandas as pd\n",
    "df = pd.read_csv('data.csv', sep=',')\n",
    "print(df.columns)\n",
    "print(df['Выберите категорию'].describe())\n",
    "\n",
    "expenses_by_category = df.groupby('Выберите категорию')[['Price per unit']].sum()\n",
    "print(expenses_by_category, sep=',')"
   ],
   "metadata": {
    "collapsed": false
   }
  },
  {
   "cell_type": "code",
   "execution_count": null,
   "outputs": [],
   "source": [],
   "metadata": {
    "collapsed": false
   }
  }
 ],
 "metadata": {
  "language_info": {
   "name": "python"
  }
 },
 "nbformat": 4,
 "nbformat_minor": 2
}
